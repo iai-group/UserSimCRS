{
 "cells": [
  {
   "cell_type": "code",
   "execution_count": null,
   "metadata": {},
   "outputs": [],
   "source": []
  },
  {
   "cell_type": "code",
   "execution_count": 1,
   "metadata": {},
   "outputs": [],
   "source": [
    "from dialoguekit.utils.annotation_converter_dialoguekit_to_rasa import AnnotationConverterRasa\n",
    "import json\n",
    "from dialoguekit.core.intent import Intent"
   ]
  },
  {
   "cell_type": "code",
   "execution_count": 1,
   "metadata": {},
   "outputs": [],
   "source": [
    "i = {\"NOTE\":[\"NOTE.NOTE-YES\",\"NOTE.NOTE-NO\",\"NOTE.NOTE-DISLIKE\",\"NOTE.NOTE-LIKE\"]}"
   ]
  },
  {
   "cell_type": "code",
   "execution_count": 2,
   "metadata": {},
   "outputs": [
    {
     "data": {
      "text/plain": [
       "{'annotated_dialogues_v2_minimal_reformat.yaml': 'data/agents/moviebot/annotated_dialogues_v2_minimal_reformat.yaml',\n",
       " 'annotated_dialogues_v2_minimal_types_w_examples.yaml': 'data/agents/moviebot/annotated_dialogues_v2_minimal_types_w_examples.yaml',\n",
       " 'annotated_dialogues_v2_minimal_rasa_user.yaml': 'data/agents/moviebot/annotated_dialogues_v2_minimal_rasa_user.yaml',\n",
       " 'annotated_dialogues_v2_minimal_rasa_agent.yaml': 'data/agents/moviebot/annotated_dialogues_v2_minimal_rasa_agent.yaml'}"
      ]
     },
     "execution_count": 2,
     "metadata": {},
     "output_type": "execute_result"
    }
   ],
   "source": [
    "conv = AnnotationConverterRasa(\"data/agents/moviebot/annotated_dialogues_v2_minimal.json\",\"data/agents/moviebot/\")\n",
    "conv.read_original()\n",
    "conv.run()"
   ]
  },
  {
   "cell_type": "code",
   "execution_count": 5,
   "metadata": {},
   "outputs": [],
   "source": [
    "annotated_dialogues_file = open(\n",
    "    \"data/MA01_UI01.json\"\n",
    ")\n",
    "annotated_conversations = json.load(annotated_dialogues_file)\n",
    "gt_intents = []\n",
    "utterances = []\n",
    "for conversation in annotated_conversations:\n",
    "    for turn in conversation[\"conversation\"]:\n",
    "        if turn[\"participant\"] == \"AGENT\":\n",
    "            gt_intents.append(turn[\"intent\"])\n",
    "            utterances.append(turn[\"utterance\"])\n",
    "\n",
    "# gt_intents = [Intent(conv[\"conversation\"][i][\"intent\"]) for conv in annotated_conversations for i in len(conv[\"conversation\"])]\n"
   ]
  },
  {
   "cell_type": "code",
   "execution_count": 7,
   "metadata": {},
   "outputs": [
    {
     "data": {
      "text/plain": [
       "[\"Hello, I'm a bot in need of some help.            Can you help me with some mathematics?\",\n",
       " 'What is 9 division 8 ?',\n",
       " 'What is 10 division 10 ?',\n",
       " 'What is 9 multiplication 1 ?',\n",
       " 'What is 4 minus 10 ?',\n",
       " 'What is 10 + 2 ?',\n",
       " 'What is 8 multiplication 8 ?',\n",
       " 'It was nice talking to you. Bye',\n",
       " \"Hello, I'm a bot in need of some help.            Can you help me with some mathematics?\",\n",
       " 'What is 1 division 10 ?',\n",
       " 'What is 2 minus 6 ?',\n",
       " 'What is 2 multiplication 4 ?',\n",
       " 'What is 3 minus 9 ?',\n",
       " 'What is 7 division 5 ?',\n",
       " 'It was nice talking to you. Bye',\n",
       " \"Hello, I'm a bot in need of some help.            Can you help me with some mathematics?\",\n",
       " 'What is 3 division 4 ?',\n",
       " 'What is 1 + 6 ?',\n",
       " 'What is 2 + 10 ?',\n",
       " 'What is 1 division 1 ?',\n",
       " 'It was nice talking to you. Bye',\n",
       " \"Hello, I'm a bot in need of some help.            Can you help me with some mathematics?\",\n",
       " 'What is 6 minus 5 ?',\n",
       " 'What is 3 division 1 ?',\n",
       " 'What is 10 division 1 ?',\n",
       " 'It was nice talking to you. Bye']"
      ]
     },
     "execution_count": 7,
     "metadata": {},
     "output_type": "execute_result"
    }
   ],
   "source": [
    "utterances"
   ]
  },
  {
   "cell_type": "code",
   "execution_count": 3,
   "metadata": {},
   "outputs": [],
   "source": [
    "import configparser"
   ]
  },
  {
   "cell_type": "code",
   "execution_count": 7,
   "metadata": {},
   "outputs": [
    {
     "name": "stdout",
     "output_type": "stream",
     "text": [
      "ontology data\\ontology.yaml\n",
      "items data\\movielens-20m-sample\\movies_w_keywords.csv\n",
      "ratings data\\movielens-20m-sample\\ratings.csv\n",
      "dialogues data\\agents\\moviebot\\annotated_dialogues.json\n",
      "ir data\\interaction_models\\cir6.yaml\n"
     ]
    }
   ],
   "source": [
    "cp = configparser.ConfigParser()\n",
    "cp.read('configs\\config.ini')\n",
    "for shit, shitvalue in cp[\"SETTINGS\"].items():\n",
    "  print(shit,shitvalue)"
   ]
  },
  {
   "cell_type": "code",
   "execution_count": 12,
   "metadata": {},
   "outputs": [],
   "source": [
    "A = [1,2]"
   ]
  },
  {
   "cell_type": "code",
   "execution_count": 13,
   "metadata": {},
   "outputs": [
    {
     "data": {
      "text/plain": [
       "[1, 2]"
      ]
     },
     "execution_count": 13,
     "metadata": {},
     "output_type": "execute_result"
    }
   ],
   "source": [
    "A[-3:]"
   ]
  },
  {
   "cell_type": "code",
   "execution_count": 9,
   "metadata": {},
   "outputs": [],
   "source": [
    "from dialoguekit.nlu.models.diet_classifier_rasa import IntentClassifierRasa\n",
    "import yaml\n",
    "import pickle\n",
    "from dialoguekit.core.intent import Intent"
   ]
  },
  {
   "cell_type": "code",
   "execution_count": 10,
   "metadata": {},
   "outputs": [
    {
     "name": "stdout",
     "output_type": "stream",
     "text": [
      "WhitespaceTokenizer_0\n",
      "CountVectorsFeaturizer_1\n"
     ]
    },
    {
     "name": "stderr",
     "output_type": "stream",
     "text": [
      "Epochs: 100%|██████████| 300/300 [01:59<00:00,  2.50it/s, t_loss=1.77, i_acc=0.938, e_f1=0.889]  \n"
     ]
    }
   ],
   "source": [
    "with open(\"data/interaction_models/cir6.yaml\") as yaml_file:\n",
    "    config = yaml.load(yaml_file, Loader=yaml.FullLoader)\n",
    "agent_intents = [Intent(x) for x in config[\"agent_intents\"]]\n",
    "\n",
    "nlur = IntentClassifierRasa(\n",
    "    agent_intents,\n",
    "    \"data/agents/moviebot/annotated_dialogues_rasa_agent.yaml\",\n",
    "    \".rasa\",\n",
    ")\n",
    "nlur.train_model()\n"
   ]
  },
  {
   "cell_type": "code",
   "execution_count": 11,
   "metadata": {},
   "outputs": [
    {
     "ename": "TypeError",
     "evalue": "can't pickle _thread.RLock objects",
     "output_type": "error",
     "traceback": [
      "\u001b[1;31m---------------------------------------------------------------------------\u001b[0m",
      "\u001b[1;31mTypeError\u001b[0m                                 Traceback (most recent call last)",
      "\u001b[1;32m~\\AppData\\Local\\Temp\\ipykernel_17120\\1078789645.py\u001b[0m in \u001b[0;36m<module>\u001b[1;34m\u001b[0m\n\u001b[0;32m      1\u001b[0m \u001b[1;32mwith\u001b[0m \u001b[0mopen\u001b[0m\u001b[1;33m(\u001b[0m\u001b[1;34m\"data/model\"\u001b[0m\u001b[1;33m,\u001b[0m\u001b[1;34m\"wb\"\u001b[0m\u001b[1;33m)\u001b[0m \u001b[1;32mas\u001b[0m \u001b[0msavefile\u001b[0m\u001b[1;33m:\u001b[0m\u001b[1;33m\u001b[0m\u001b[1;33m\u001b[0m\u001b[0m\n\u001b[1;32m----> 2\u001b[1;33m   \u001b[0mpickle\u001b[0m\u001b[1;33m.\u001b[0m\u001b[0mdump\u001b[0m\u001b[1;33m(\u001b[0m\u001b[0mnlur\u001b[0m\u001b[1;33m,\u001b[0m\u001b[0msavefile\u001b[0m\u001b[1;33m)\u001b[0m\u001b[1;33m\u001b[0m\u001b[1;33m\u001b[0m\u001b[0m\n\u001b[0m",
      "\u001b[1;31mTypeError\u001b[0m: can't pickle _thread.RLock objects"
     ]
    }
   ],
   "source": [
    "with open(\"data/model\",\"wb\") as savefile:\n",
    "  pickle.dump(nlur,savefile)"
   ]
  }
 ],
 "metadata": {
  "interpreter": {
   "hash": "fc81fb31b43b336ef0c6e1522da71f6dcd4dbb48e5d9163cfa83d40037023500"
  },
  "kernelspec": {
   "display_name": "Python 3.7.11 ('usersimcrs')",
   "language": "python",
   "name": "python3"
  },
  "language_info": {
   "codemirror_mode": {
    "name": "ipython",
    "version": 3
   },
   "file_extension": ".py",
   "mimetype": "text/x-python",
   "name": "python",
   "nbconvert_exporter": "python",
   "pygments_lexer": "ipython3",
   "version": "3.7.11"
  },
  "orig_nbformat": 4
 },
 "nbformat": 4,
 "nbformat_minor": 2
}
