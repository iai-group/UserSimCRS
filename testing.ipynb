{
 "cells": [
  {
   "cell_type": "code",
   "execution_count": 9,
   "metadata": {},
   "outputs": [],
   "source": [
    "from dialoguekit.core.recsys.item_collection import ItemCollection\n",
    "from usersimcrs.simulator.preference_model import (\n",
    "    PreferenceModel,\n",
    "    PreferenceModelVariant,\n",
    ")\n",
    "from dialoguekit.core.recsys.ratings import Ratings\n",
    "from dialoguekit.user.user_preferences import UserPreferences\n",
    "\n",
    "from collections import defaultdict\n"
   ]
  },
  {
   "cell_type": "code",
   "execution_count": 10,
   "metadata": {},
   "outputs": [],
   "source": [
    "item_collection = ItemCollection()\n",
    "item_collection.load_items_csv(\"data/movielens-20m-sample/movies_w_keywords.csv\", [\"ID\", \"NAME\", \"genres\",\"keywords\"])\n",
    "ratings = Ratings(item_collection)\n",
    "ratings.load_ratings_csv(\"data/movielens-20m-sample/ratings.csv\")\n",
    "historical_user_id = \"13\"\n",
    "item_preferences = UserPreferences(historical_user_id)\n",
    "slotvalue_preferences = UserPreferences(historical_user_id)\n",
    "keyword_preferences = defaultdict(list)"
   ]
  },
  {
   "cell_type": "code",
   "execution_count": 11,
   "metadata": {},
   "outputs": [],
   "source": [
    "for item_id, rating in ratings.get_user_ratings(\n",
    "  historical_user_id\n",
    ").items():\n",
    "  item_preferences.set_preference(\"ITEM_ID\", item_id, rating)\n",
    "  for keyword in item_collection.get_item(item_id).get_property(\n",
    "                \"keywords\").split(\"|\"):\n",
    "                keyword_preferences[keyword].append(rating)"
   ]
  },
  {
   "cell_type": "code",
   "execution_count": null,
   "metadata": {},
   "outputs": [],
   "source": [
    "keyword_preferences"
   ]
  },
  {
   "cell_type": "code",
   "execution_count": 16,
   "metadata": {},
   "outputs": [],
   "source": [
    "srt = dict(sorted(keyword_preferences.items(), key=lambda item: len(item[1]), reverse=True))"
   ]
  },
  {
   "cell_type": "code",
   "execution_count": 20,
   "metadata": {},
   "outputs": [
    {
     "data": {
      "text/plain": [
       "0.22222222222222224"
      ]
     },
     "execution_count": 20,
     "metadata": {},
     "output_type": "execute_result"
    }
   ],
   "source": [
    "sum(srt[\"violence\"])/len(srt[\"violence\"])"
   ]
  },
  {
   "cell_type": "code",
   "execution_count": 21,
   "metadata": {},
   "outputs": [],
   "source": [
    "for kw,vals in srt.items():\n",
    "  srt[kw] = sum(vals)/len(vals)"
   ]
  },
  {
   "cell_type": "code",
   "execution_count": null,
   "metadata": {},
   "outputs": [],
   "source": [
    "dict(sorted(srt.items(),key=lambda item: item[1], reverse=True))"
   ]
  },
  {
   "cell_type": "code",
   "execution_count": 26,
   "metadata": {},
   "outputs": [
    {
     "data": {
      "text/plain": [
       "494"
      ]
     },
     "execution_count": 26,
     "metadata": {},
     "output_type": "execute_result"
    }
   ],
   "source": []
  },
  {
   "cell_type": "code",
   "execution_count": 7,
   "metadata": {},
   "outputs": [
    {
     "data": {
      "text/plain": [
       "['toy',\n",
       " 'toy-comes-to-life',\n",
       " 'rivalry',\n",
       " 'cowboy',\n",
       " 'claw-crane',\n",
       " 'enemies-become-friends',\n",
       " 'piggy-bank',\n",
       " 'computer-animation',\n",
       " 'dog',\n",
       " 'two-word-title']"
      ]
     },
     "execution_count": 7,
     "metadata": {},
     "output_type": "execute_result"
    }
   ],
   "source": [
    "item_collection.get_item(\"1\").get_property(\"keywords\").split(\"|\")"
   ]
  },
  {
   "cell_type": "code",
   "execution_count": 7,
   "metadata": {},
   "outputs": [
    {
     "data": {
      "text/plain": [
       "True"
      ]
     },
     "execution_count": 7,
     "metadata": {},
     "output_type": "execute_result"
    }
   ],
   "source": [
    "item_collection.exists(\"12\")"
   ]
  },
  {
   "cell_type": "code",
   "execution_count": 8,
   "metadata": {},
   "outputs": [],
   "source": [
    "item_preferences.get_preference(\"ITEM_ID\",\"12\")"
   ]
  },
  {
   "cell_type": "code",
   "execution_count": 9,
   "metadata": {},
   "outputs": [
    {
     "name": "stdout",
     "output_type": "stream",
     "text": [
      "not a\n"
     ]
    }
   ],
   "source": [
    "a = item_preferences.get_preference(\"ITEM_ID\",\"12\")\n",
    "if not a:\n",
    "  print(\"not a\")"
   ]
  },
  {
   "cell_type": "code",
   "execution_count": 29,
   "metadata": {},
   "outputs": [
    {
     "data": {
      "text/plain": [
       "'Comedy|Horror'"
      ]
     },
     "execution_count": 29,
     "metadata": {},
     "output_type": "execute_result"
    }
   ],
   "source": [
    "item_collection.get_item(\"12\").get_property(\"genres\")"
   ]
  },
  {
   "cell_type": "code",
   "execution_count": 13,
   "metadata": {},
   "outputs": [
    {
     "name": "stdout",
     "output_type": "stream",
     "text": [
      "None\n"
     ]
    }
   ],
   "source": [
    "slotvalue_preferences.get_preferences(\"GENRE\")"
   ]
  }
 ],
 "metadata": {
  "interpreter": {
   "hash": "fc81fb31b43b336ef0c6e1522da71f6dcd4dbb48e5d9163cfa83d40037023500"
  },
  "kernelspec": {
   "display_name": "Python 3.7.11 ('usersimcrs')",
   "language": "python",
   "name": "python3"
  },
  "language_info": {
   "codemirror_mode": {
    "name": "ipython",
    "version": 3
   },
   "file_extension": ".py",
   "mimetype": "text/x-python",
   "name": "python",
   "nbconvert_exporter": "python",
   "pygments_lexer": "ipython3",
   "version": "3.7.11"
  },
  "orig_nbformat": 4
 },
 "nbformat": 4,
 "nbformat_minor": 2
}
