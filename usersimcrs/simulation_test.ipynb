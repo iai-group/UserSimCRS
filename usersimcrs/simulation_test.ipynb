{
 "cells": [
  {
   "cell_type": "code",
   "execution_count": 1,
   "metadata": {},
   "outputs": [
    {
     "data": {
      "text/plain": [
       "'c:\\\\Users\\\\jafar\\\\Desktop\\\\V2022\\\\Master2022\\\\UserSimCRS'"
      ]
     },
     "execution_count": 1,
     "metadata": {},
     "output_type": "execute_result"
    }
   ],
   "source": [
    "# NEED TO MAKE SURE WE ARE IN CORRECT DIRECTORY FOR NOTEBOOK\n",
    "import os\n",
    "if os.getcwd() == 'c:\\\\Users\\\\jafar\\\\Desktop\\\\V2022\\\\Master2022\\\\UserSimCRS\\\\usersimcrs':\n",
    "  os.chdir(\"..\") # Change to root level directory\n",
    "os.getcwd()\n"
   ]
  },
  {
   "cell_type": "code",
   "execution_count": 2,
   "metadata": {},
   "outputs": [],
   "source": [
    "# IMPORTS\n",
    "\"\"\"Console application for running simulation.\"\"\"\n",
    "\n",
    "import argparse\n",
    "import configparser\n",
    "import os\n",
    "import sys\n",
    "import json\n",
    "import yaml\n",
    "import datetime\n",
    "\n",
    "from dialoguekit.nlu.models.diet_classifier_rasa import IntentClassifierRasa\n",
    "from dialoguekit.nlu.models.intent_classifier_cosine import IntentClassifierCosine\n",
    "from dialoguekit.nlg.nlg import NLG\n",
    "from dialoguekit.nlu.nlu import NLU\n",
    "from dialoguekit.agent.agent import Agent\n",
    "from dialoguekit.core.dialogue import Dialogue\n",
    "from dialoguekit.core.ontology import Ontology\n",
    "from dialoguekit.core.recsys.item_collection import ItemCollection\n",
    "from dialoguekit.core.recsys.ratings import Ratings\n",
    "from dialoguekit.manager.dialogue_manager import DialogueManager\n",
    "from dialoguekit.platforms.platform import Platform\n",
    "from dialoguekit.agent.terminal_agent import TerminalAgent\n",
    "from dialoguekit.agent.moviebot_agent import MovieBotAgent\n",
    "from dialoguekit.core.intent import Intent\n",
    "from dialoguekit.core.utterance import Utterance\n",
    "from dialoguekit.nlu.models.satisfaction_classifier import SatisfactionClassifier\n",
    "\n",
    "from usersimcrs.simulator.user_simulator import UserSimulator\n",
    "from usersimcrs.sample_agent.sample_agent import SampleAgent\n",
    "from usersimcrs.simulator.agenda_based_simulator import AgendaBasedSimulator\n",
    "from usersimcrs.simulator.preference_model import (\n",
    "    PreferenceModel,\n",
    "    PreferenceModelVariant,\n",
    ")\n",
    "from usersimcrs.simulator.interaction_model import InteractionModel\n",
    "from usersimcrs.utils.persona_generator import Persona, Context\n"
   ]
  },
  {
   "cell_type": "code",
   "execution_count": 3,
   "metadata": {},
   "outputs": [],
   "source": [
    "# FUNCTIONS\n",
    "def simulate_conversation(\n",
    "    agent: Agent, user_simulator: UserSimulator\n",
    ") -> Dialogue:\n",
    "    \"\"\"Simulates a single conversation and returns the resulting dialogue.\n",
    "\n",
    "    Args:\n",
    "        agent: An agent.\n",
    "        user_simulator: A user simulator.\n",
    "    \"\"\"\n",
    "    platform = Platform()  # TODO: Add simulator platform\n",
    "    dm = DialogueManager(agent, user_simulator, platform)\n",
    "    agent.connect_dialogue_manager(dialogue_manager=dm)\n",
    "    user_simulator.connect_dialogue_manager(dialogue_manager=dm)\n",
    "    dm.start()\n",
    "    dm.close()\n",
    "    return dm.dialogue_history"
   ]
  },
  {
   "cell_type": "code",
   "execution_count": 4,
   "metadata": {},
   "outputs": [],
   "source": [
    "# READ CONFIG\n",
    "conf_parser = argparse.ArgumentParser(\n",
    "    description=__doc__, # printed with -h/--help\n",
    "    # Don't mess with format of description\n",
    "    formatter_class=argparse.RawDescriptionHelpFormatter,\n",
    "    # Turn off help, so we print all options in response to -h\n",
    "    add_help=False\n",
    "    )\n",
    "conf_file = \"configs\\config.ini\"\n",
    "cp = configparser.ConfigParser()\n",
    "cp.read([conf_file])\n",
    "input_file_paths = dict(cp.items('SETTINGS'))"
   ]
  },
  {
   "cell_type": "code",
   "execution_count": 5,
   "metadata": {},
   "outputs": [
    {
     "name": "stderr",
     "output_type": "stream",
     "text": [
      "c:\\Users\\jafar\\anaconda3\\envs\\usersimcrs\\lib\\site-packages\\sklearn\\base.py:315: UserWarning: Trying to unpickle estimator LinearSVC from version 0.24.0 when using version 0.24.2. This might lead to breaking code or invalid results. Use at your own risk.\n",
      "  UserWarning)\n",
      "c:\\Users\\jafar\\anaconda3\\envs\\usersimcrs\\lib\\site-packages\\sklearn\\base.py:315: UserWarning: Trying to unpickle estimator CountVectorizer from version 0.24.0 when using version 0.24.2. This might lead to breaking code or invalid results. Use at your own risk.\n",
      "  UserWarning)\n"
     ]
    }
   ],
   "source": [
    "# INITIALISE OBJECTS\n",
    "# agent = SampleAgent(agent_id=\"sample_agent\")\n",
    "# agent = TerminalAgent(\"test\")\n",
    "\n",
    "ontology = Ontology(input_file_paths[\"ontology\"])\n",
    "\n",
    "item_collection = ItemCollection()\n",
    "item_collection.load_items_csv(input_file_paths[\"items\"],[\"ID\", \"NAME\", \"genres\",\"keywords\"])\n",
    "\n",
    "ratings = Ratings(item_collection=item_collection)\n",
    "ratings.load_ratings_csv(input_file_paths[\"ratings\"])\n",
    "\n",
    "with open(input_file_paths[\"dialogues\"]) as annotated_dialogues_file:\n",
    "  annotated_conversations = json.load(annotated_dialogues_file)\n",
    "gt_intents = []\n",
    "utterances = []\n",
    "for conversation in annotated_conversations:\n",
    "    for turn in conversation[\"conversation\"]:\n",
    "        if turn[\"participant\"] == \"AGENT\":\n",
    "            gt_intents.append(Intent(turn[\"intent\"]))\n",
    "            utterances.append(Utterance(turn[\"utterance\"]))\n",
    "with open(input_file_paths[\"ir\"]) as yaml_file:\n",
    "  config = yaml.load(yaml_file, Loader = yaml.FullLoader)\n",
    "agent_intents = [Intent(x) for x in config[\"agent_intents\"]]\n",
    "\n",
    "interaction_model = InteractionModel(\n",
    "  input_file_paths[\"ir\"], annotated_conversations\n",
    ")\n",
    "\n",
    "satisfaction_model = SatisfactionClassifier()\n",
    "\n",
    "nluc = IntentClassifierCosine(agent_intents)\n",
    "nluc.train_model(utterances,gt_intents)"
   ]
  },
  {
   "cell_type": "code",
   "execution_count": 11,
   "metadata": {},
   "outputs": [
    {
     "name": "stderr",
     "output_type": "stream",
     "text": [
      "\u001b[93mc:\\Users\\jafar\\anaconda3\\envs\\usersimcrs\\lib\\site-packages\\rasa\\utils\\train_utils.py:530: UserWarning: constrain_similarities is set to `False`. It is recommended to set it to `True` when using cross-entropy loss.\n",
      "  category=UserWarning,\n",
      "\u001b[0m"
     ]
    },
    {
     "name": "stdout",
     "output_type": "stream",
     "text": [
      "WhitespaceTokenizer_0\n",
      "CountVectorsFeaturizer_1\n"
     ]
    },
    {
     "name": "stderr",
     "output_type": "stream",
     "text": [
      "Epochs: 100%|██████████| 300/300 [01:53<00:00,  2.64it/s, t_loss=1.39, i_acc=1, e_f1=0.956]\n"
     ]
    }
   ],
   "source": [
    "# TRAIN OBJECTS THAT REQUIRE IT\n",
    "nlur = IntentClassifierRasa(\n",
    "  agent_intents,\n",
    "  \"data/agents/moviebot/annotated_dialogues_v2_minimal_rasa_agent.yaml\",\n",
    "  \".rasa\",\n",
    ")\n",
    "nlur.train_model()\n",
    "\n",
    "nlu = NLU(nluc,[nlur])\n",
    "nlg = NLG()\n",
    "nlg.template_from_file(template_file=input_file_paths[\"dialogues\"], participant_to_learn=\"USER\", satisfaction_classifier= satisfaction_model)"
   ]
  },
  {
   "cell_type": "code",
   "execution_count": 116,
   "metadata": {},
   "outputs": [],
   "source": [
    "# COPY agenda for fair simulations\n",
    "from copy import deepcopy\n",
    "intmodel = deepcopy(interaction_model)"
   ]
  },
  {
   "cell_type": "code",
   "execution_count": null,
   "metadata": {},
   "outputs": [],
   "source": [
    "# STATIC AGENDA - 20 CONV PER PERSONA-CONTEXT PAIR.\n",
    "personas = []\n",
    "coops = [0.2,0.6,1.0]\n",
    "totd = [(datetime.time(0,0,0),datetime.time(3,0,0)),(datetime.time(21,0,0),datetime.time(23,59,59)),(datetime.time(15,0,0),datetime.time(18,0,0))]\n",
    "init_satisfaction = 3.0\n",
    "names = [\"Sarah Jackson\",\"Tyreson Tyre\",\"Jefferson Frank\"]\n",
    "agent = MovieBotAgent(\"MovieBot\",\"http://192.168.0.168:5001/\")\n",
    "errors_during_simulations = []\n",
    "for i,name in enumerate(names):\n",
    "  ctx = Context(group_setting=True, time_of_the_day=totd[2],weekend=True)\n",
    "  persona = Persona(name=name, id=str(i*2 + 13), satisfaction=init_satisfaction,cooperativeness=coops[i],context=ctx)\n",
    "  persona.calculate_max_retries()\n",
    "  preference_model = PreferenceModel(\n",
    "    ontology,\n",
    "    item_collection,\n",
    "    ratings,\n",
    "    PreferenceModelVariant.PKG,\n",
    "    historical_user_id=persona.id\n",
    "  )\n",
    "  for j in range(20):\n",
    "    while True:\n",
    "        intmodel = deepcopy(interaction_model)\n",
    "        try:\n",
    "            simulator = AgendaBasedSimulator(\n",
    "            \"simulator\",\n",
    "            preference_model,\n",
    "            intmodel,\n",
    "            nlu,\n",
    "            nlg,\n",
    "            ontology,\n",
    "            item_collection,\n",
    "            ratings,\n",
    "            persona,\n",
    "            satisfaction_model\n",
    "        )\n",
    "            simulate_conversation(agent,simulator)\n",
    "        except Exception as e:\n",
    "            errors_during_simulations.append(e)\n",
    "            continue\n",
    "        break\n",
    "  "
   ]
  },
  {
   "cell_type": "code",
   "execution_count": null,
   "metadata": {},
   "outputs": [],
   "source": [
    "# CHECKING IF INTENTS IN THE SIMULATED DIALOGUES AGREE WITH THE INTENT SCHEME IN USE.\n",
    "from dialoguekit.utils.dialogue_reader import json_to_dialogues\n",
    "from dialoguekit.core.dialogue import DialogueParticipant\n",
    "intent_set = set()\n",
    "dialogues = json_to_dialogues(\"dialogue_export\\same_agenda_different_persona_context\\gsTweT\\\\t21_24\\MovieBot_13.json\", agent_id=\"MovieBot\",user_id=\"13\")\n",
    "for dialogue in dialogues:\n",
    "  for utterance in dialogue.utterances:\n",
    "    if utterance[\"sender\"] == DialogueParticipant.AGENT:\n",
    "      intent_set.add(utterance[\"utterance\"].intent.label)\n",
    "print(list(intent_set))\n",
    "\n",
    "intent_set = set()\n",
    "dialogues = json_to_dialogues(\"dialogue_export\\same_agenda_different_persona_context\\gsTweT\\\\t21_24\\MovieBot_15.json\", agent_id=\"MovieBot\",user_id=\"15\")\n",
    "for dialogue in dialogues:\n",
    "  for utterance in dialogue.utterances:\n",
    "    if utterance[\"sender\"] == DialogueParticipant.AGENT:\n",
    "      intent_set.add(utterance[\"utterance\"].intent.label)\n",
    "print(list(intent_set))\n",
    "\n",
    "intent_set = set()\n",
    "dialogues = json_to_dialogues(\"dialogue_export\\same_agenda_different_persona_context\\gsTweT\\\\t21_24\\MovieBot_17.json\", agent_id=\"MovieBot\",user_id=\"17\")\n",
    "for dialogue in dialogues:\n",
    "  for utterance in dialogue.utterances:\n",
    "    if utterance[\"sender\"] == DialogueParticipant.AGENT:\n",
    "      intent_set.add(utterance[\"utterance\"].intent.label)\n",
    "print(list(intent_set))"
   ]
  }
 ],
 "metadata": {
  "interpreter": {
   "hash": "fc81fb31b43b336ef0c6e1522da71f6dcd4dbb48e5d9163cfa83d40037023500"
  },
  "kernelspec": {
   "display_name": "Python 3.7.11 ('usersimcrs')",
   "language": "python",
   "name": "python3"
  },
  "language_info": {
   "codemirror_mode": {
    "name": "ipython",
    "version": 3
   },
   "file_extension": ".py",
   "mimetype": "text/x-python",
   "name": "python",
   "nbconvert_exporter": "python",
   "pygments_lexer": "ipython3",
   "version": "3.7.11"
  },
  "orig_nbformat": 4
 },
 "nbformat": 4,
 "nbformat_minor": 2
}
