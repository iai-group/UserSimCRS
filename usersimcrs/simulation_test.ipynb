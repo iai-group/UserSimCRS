{
 "cells": [
  {
   "cell_type": "code",
   "execution_count": 1,
   "metadata": {},
   "outputs": [
    {
     "data": {
      "text/plain": [
       "'c:\\\\Users\\\\jafar\\\\Desktop\\\\V2022\\\\Master2022\\\\UserSimCRS'"
      ]
     },
     "execution_count": 1,
     "metadata": {},
     "output_type": "execute_result"
    }
   ],
   "source": [
    "# NEED TO MAKE SURE WE ARE IN CORRECT DIRECTORY FOR NOTEBOOK\n",
    "import os\n",
    "if os.getcwd() == 'c:\\\\Users\\\\jafar\\\\Desktop\\\\V2022\\\\Master2022\\\\UserSimCRS\\\\usersimcrs':\n",
    "  os.chdir(\"..\") # Change to root level directory\n",
    "os.getcwd()\n"
   ]
  },
  {
   "cell_type": "code",
   "execution_count": 2,
   "metadata": {},
   "outputs": [],
   "source": [
    "# IMPORTS\n",
    "\"\"\"Console application for running simulation.\"\"\"\n",
    "\n",
    "import argparse\n",
    "import configparser\n",
    "import os\n",
    "import sys\n",
    "import json\n",
    "import yaml\n",
    "import datetime\n",
    "\n",
    "from dialoguekit.nlu.models.diet_classifier_rasa import IntentClassifierRasa\n",
    "from dialoguekit.nlu.models.intent_classifier_cosine import IntentClassifierCosine\n",
    "from dialoguekit.nlg.nlg import NLG\n",
    "from dialoguekit.nlu.nlu import NLU\n",
    "from dialoguekit.agent.agent import Agent\n",
    "from dialoguekit.core.dialogue import Dialogue\n",
    "from dialoguekit.core.ontology import Ontology\n",
    "from dialoguekit.core.recsys.item_collection import ItemCollection\n",
    "from dialoguekit.core.recsys.ratings import Ratings\n",
    "from dialoguekit.manager.dialogue_manager import DialogueManager\n",
    "from dialoguekit.platforms.platform import Platform\n",
    "from dialoguekit.agent.terminal_agent import TerminalAgent\n",
    "from dialoguekit.agent.moviebot_agent import MovieBotAgent\n",
    "from dialoguekit.core.intent import Intent\n",
    "from dialoguekit.core.utterance import Utterance\n",
    "from dialoguekit.nlu.models.satisfaction_classifier import SatisfactionClassifier\n",
    "\n",
    "from usersimcrs.simulator.user_simulator import UserSimulator\n",
    "from usersimcrs.sample_agent.sample_agent import SampleAgent\n",
    "from usersimcrs.simulator.agenda_based_simulator import AgendaBasedSimulator\n",
    "from usersimcrs.simulator.preference_model import (\n",
    "    PreferenceModel,\n",
    "    PreferenceModelVariant,\n",
    ")\n",
    "from usersimcrs.simulator.interaction_model import InteractionModel\n",
    "from usersimcrs.utils.persona_generator import Persona\n"
   ]
  },
  {
   "cell_type": "code",
   "execution_count": 3,
   "metadata": {},
   "outputs": [],
   "source": [
    "# FUNCTIONS\n",
    "def simulate_conversation(\n",
    "    agent: Agent, user_simulator: UserSimulator\n",
    ") -> Dialogue:\n",
    "    \"\"\"Simulates a single conversation and returns the resulting dialogue.\n",
    "\n",
    "    Args:\n",
    "        agent: An agent.\n",
    "        user_simulator: A user simulator.\n",
    "    \"\"\"\n",
    "    platform = Platform()  # TODO: Add simulator platform\n",
    "    dm = DialogueManager(agent, user_simulator, platform)\n",
    "    agent.connect_dialogue_manager(dialogue_manager=dm)\n",
    "    user_simulator.connect_dialogue_manager(dialogue_manager=dm)\n",
    "    dm.start()\n",
    "    dm.close()\n",
    "    return dm.dialogue_history"
   ]
  },
  {
   "cell_type": "code",
   "execution_count": 4,
   "metadata": {},
   "outputs": [],
   "source": [
    "# READ CONFIG\n",
    "conf_parser = argparse.ArgumentParser(\n",
    "    description=__doc__, # printed with -h/--help\n",
    "    # Don't mess with format of description\n",
    "    formatter_class=argparse.RawDescriptionHelpFormatter,\n",
    "    # Turn off help, so we print all options in response to -h\n",
    "    add_help=False\n",
    "    )\n",
    "conf_file = \"configs\\config.ini\"\n",
    "cp = configparser.ConfigParser()\n",
    "cp.read([conf_file])\n",
    "input_file_paths = dict(cp.items('SETTINGS'))"
   ]
  },
  {
   "cell_type": "code",
   "execution_count": 5,
   "metadata": {},
   "outputs": [
    {
     "name": "stderr",
     "output_type": "stream",
     "text": [
      "c:\\Users\\jafar\\anaconda3\\envs\\usersimcrs\\lib\\site-packages\\sklearn\\base.py:315: UserWarning: Trying to unpickle estimator LinearSVC from version 0.24.0 when using version 0.24.2. This might lead to breaking code or invalid results. Use at your own risk.\n",
      "  UserWarning)\n",
      "c:\\Users\\jafar\\anaconda3\\envs\\usersimcrs\\lib\\site-packages\\sklearn\\base.py:315: UserWarning: Trying to unpickle estimator CountVectorizer from version 0.24.0 when using version 0.24.2. This might lead to breaking code or invalid results. Use at your own risk.\n",
      "  UserWarning)\n"
     ]
    }
   ],
   "source": [
    "# INITIALISE OBJECTS\n",
    "# agent = SampleAgent(agent_id=\"sample_agent\")\n",
    "# agent = TerminalAgent(\"test\")\n",
    "\n",
    "ontology = Ontology(input_file_paths[\"ontology\"])\n",
    "\n",
    "item_collection = ItemCollection()\n",
    "item_collection.load_items_csv(input_file_paths[\"items\"],[\"ID\", \"NAME\", \"genres\",\"keywords\"])\n",
    "\n",
    "ratings = Ratings(item_collection=item_collection)\n",
    "ratings.load_ratings_csv(input_file_paths[\"ratings\"])\n",
    "\n",
    "with open(input_file_paths[\"dialogues\"]) as annotated_dialogues_file:\n",
    "  annotated_conversations = json.load(annotated_dialogues_file)\n",
    "gt_intents = []\n",
    "utterances = []\n",
    "for conversation in annotated_conversations:\n",
    "    for turn in conversation[\"conversation\"]:\n",
    "        if turn[\"participant\"] == \"AGENT\":\n",
    "            gt_intents.append(Intent(turn[\"intent\"]))\n",
    "            utterances.append(Utterance(turn[\"utterance\"]))\n",
    "with open(input_file_paths[\"ir\"]) as yaml_file:\n",
    "  config = yaml.load(yaml_file, Loader = yaml.FullLoader)\n",
    "agent_intents = [Intent(x) for x in config[\"agent_intents\"]]\n",
    "\n",
    "preference_model = PreferenceModel(\n",
    "  ontology,\n",
    "  item_collection,\n",
    "  ratings,\n",
    "  PreferenceModelVariant.PKG,\n",
    "  historical_user_id=\"17\",\n",
    ")\n",
    "\n",
    "interaction_model = InteractionModel(\n",
    "  input_file_paths[\"ir\"], annotated_conversations\n",
    ")\n",
    "\n",
    "satisfaction_model = SatisfactionClassifier()\n",
    "\n",
    "nluc = IntentClassifierCosine(agent_intents)\n",
    "nluc.train_model(utterances,gt_intents)\n",
    "\n",
    "persona = Persona(\"Jafar\",\"17\",False,(datetime.time(18,0,0),datetime.time(21,0,0)),True,3,0.6,2)"
   ]
  },
  {
   "cell_type": "code",
   "execution_count": 6,
   "metadata": {},
   "outputs": [
    {
     "name": "stdout",
     "output_type": "stream",
     "text": [
      "WhitespaceTokenizer_0\n",
      "CountVectorsFeaturizer_1\n"
     ]
    },
    {
     "name": "stderr",
     "output_type": "stream",
     "text": [
      "\u001b[93mc:\\Users\\jafar\\anaconda3\\envs\\usersimcrs\\lib\\site-packages\\rasa\\utils\\train_utils.py:530: UserWarning: constrain_similarities is set to `False`. It is recommended to set it to `True` when using cross-entropy loss.\n",
      "  category=UserWarning,\n",
      "\u001b[0mc:\\Users\\jafar\\anaconda3\\envs\\usersimcrs\\lib\\site-packages\\rasa\\utils\\tensorflow\\model_data_utils.py:396: VisibleDeprecationWarning: Creating an ndarray from ragged nested sequences (which is a list-or-tuple of lists-or-tuples-or ndarrays with different lengths or shapes) is deprecated. If you meant to do this, you must specify 'dtype=object' when creating the ndarray\n",
      "  np.array([v[0] for v in values]), number_of_dimensions=3\n",
      "c:\\Users\\jafar\\anaconda3\\envs\\usersimcrs\\lib\\site-packages\\rasa\\utils\\tensorflow\\model_data.py:740: VisibleDeprecationWarning: Creating an ndarray from ragged nested sequences (which is a list-or-tuple of lists-or-tuples-or ndarrays with different lengths or shapes) is deprecated. If you meant to do this, you must specify 'dtype=object' when creating the ndarray\n",
      "  np.concatenate(np.array(f)),\n",
      "Epochs:   0%|          | 0/300 [00:00<?, ?it/s]c:\\Users\\jafar\\anaconda3\\envs\\usersimcrs\\lib\\site-packages\\tensorflow\\python\\framework\\indexed_slices.py:449: UserWarning: Converting sparse IndexedSlices(IndexedSlices(indices=Tensor(\"gradients/cond_grad/gradients/cond/GatherV2_grad/Reshape_1:0\", shape=(None,), dtype=int32), values=Tensor(\"gradients/cond_grad/gradients/cond/GatherV2_grad/Reshape:0\", shape=(None,), dtype=float32), dense_shape=Tensor(\"gradients/cond_grad/gradients/cond/GatherV2_grad/Cast:0\", shape=(1,), dtype=int32))) to a dense Tensor of unknown shape. This may consume a large amount of memory.\n",
      "  \"shape. This may consume a large amount of memory.\" % value)\n",
      "Epochs: 100%|██████████| 300/300 [12:35<00:00,  2.52s/it, t_loss=1.71, i_acc=1, e_f1=0.926]     \n"
     ]
    }
   ],
   "source": [
    "# TRAIN OBJECTS THAT REQUIRE IT\n",
    "nlur = IntentClassifierRasa(\n",
    "  agent_intents,\n",
    "  \"data/agents/moviebot/annotated_dialogues_v2_rasa_agent.yaml\",\n",
    "  \".rasa\",\n",
    ")\n",
    "nlur.train_model()\n",
    "\n",
    "nlu = NLU(nluc,[nlur])\n",
    "nlg = NLG()\n",
    "nlg.template_from_file(template_file=input_file_paths[\"dialogues\"], participant_to_learn=\"USER\", satisfaction_classifier= satisfaction_model)"
   ]
  },
  {
   "cell_type": "code",
   "execution_count": 7,
   "metadata": {},
   "outputs": [
    {
     "name": "stdout",
     "output_type": "stream",
     "text": [
      "AGENDA:  [Intent(COMPLETE), Intent(NOTE.NOTE-ACCEPT), Intent(INQUIRE.MORE), Intent(INQUIRE.MORE), Intent(INQUIRE.ITEMINFO), Intent(DISCLOSE), Intent(DISCLOSE), Intent(DISCLOSE), Intent(INQUIRE), Intent(DISCLOSE), Intent(DISCLOSE), Intent(DISCLOSE), Intent(REVEAL.REVISE), Intent(DISCLOSE), Intent(DISCLOSE), Intent(DISCLOSE.NON-DISCLOSE)]\n"
     ]
    }
   ],
   "source": [
    "# INTIALISE SIMULATOR\n",
    "agent = MovieBotAgent(\"14\",\"http://152.94.232.109:5001\")\n",
    "simulator = AgendaBasedSimulator(\n",
    "    \"simulator\",\n",
    "    preference_model,\n",
    "    interaction_model,\n",
    "    nlu,\n",
    "    nlg,\n",
    "    ontology,\n",
    "    item_collection,\n",
    "    ratings,\n",
    "    persona,\n",
    "    satisfaction_model\n",
    ")"
   ]
  },
  {
   "cell_type": "code",
   "execution_count": 8,
   "metadata": {},
   "outputs": [
    {
     "name": "stdout",
     "output_type": "stream",
     "text": [
      "AGENT: Hi there. I am IAI MovieBot, your movie recommending buddy. I can recommend you movies based on your preferences.\n",
      " I will ask you a few questions and based on your answers, I will try to find a movie for you.\n",
      "\n",
      "\n",
      "88: agent intent DISCLOSE.NON-DISCLOSE\n",
      "89: agent annotations []\n",
      "97: satisfaction score 2\n",
      "99: expected responses: DISCLOSE.NON-DISCLOSE ['INQUIRE', 'INQUIRE.ELICIT', 'DISCLOSE.NON-DISCLOSE']\n",
      "Agenda expected\n",
      "AGENDA UPDATE: DISCLOSE.NON-DISCLOSE\n",
      "112:response intent DISCLOSE.NON-DISCLOSE\n",
      "151: response Hello.\n",
      "USER:  Hello.\n",
      "\n",
      "ELICIT\n",
      "AGENT: Do you have any specific genres in mind?\n",
      "88: agent intent INQUIRE.ELICIT\n",
      "89: agent annotations [SlotValueAnnotation(REQUEST, genres,             25, 31)]\n",
      "97: satisfaction score 2\n",
      "99: expected responses: DISCLOSE.NON-DISCLOSE ['INQUIRE', 'INQUIRE.ELICIT', 'DISCLOSE.NON-DISCLOSE']\n",
      "Agenda expected\n",
      "AGENDA UPDATE: DISCLOSE\n",
      "112:response intent DISCLOSE\n",
      "122: user slot values [Annotation(GENRE, Crime), Annotation(GENRE, Drama), Annotation(GENRE, War)]\n",
      "151: response I like Crime movies\n",
      "USER:  I like Crime movies\n",
      "\n",
      "COUNT_RESULTS\n",
      "AGENT: I have found almost 5300 crime films. Please answer a few more questions to help me find a good movie.\n",
      "\n",
      "Can you give me a few keywords? For example, 'crown jewels' or 'crime family'.\n",
      "88: agent intent INQUIRE.ELICIT\n",
      "89: agent annotations [SlotValueAnnotation(REQUEST, keywords,             126, 134)]\n",
      "97: satisfaction score 2\n",
      "99: expected responses: DISCLOSE ['INQUIRE.ELICIT', 'REVEAL', 'REVEAL.NONE']\n",
      "Agenda expected\n",
      "AGENDA UPDATE: DISCLOSE\n",
      "112:response intent DISCLOSE\n",
      "122: user slot values [Annotation(KEYWORD, gun battle), Annotation(KEYWORD, armored car robbery), Annotation(KEYWORD, gunfight)]\n",
      "151: response something with gun battle\n",
      "USER:  something with gun battle\n",
      "\n",
      "RECOMMEND\n",
      "AGENT: Do you like: Heat 8.2 170 min\n",
      "88: agent intent REVEAL\n",
      "89: agent annotations [SlotValueAnnotation(TITLE, Heat,             13, 17)]\n",
      "97: satisfaction score 1\n",
      "99: expected responses: DISCLOSE ['INQUIRE.ELICIT', 'REVEAL', 'REVEAL.NONE']\n",
      "Agenda expected\n",
      "AGENDA UPDATE: REVEAL.REVISE\n",
      "112:response intent REVEAL.REVISE\n",
      "140: response_preference and intent (False, -1) REVEAL.REVISE\n",
      "151: response False\n"
     ]
    },
    {
     "ename": "AttributeError",
     "evalue": "'bool' object has no attribute 'text'",
     "output_type": "error",
     "traceback": [
      "\u001b[1;31m---------------------------------------------------------------------------\u001b[0m",
      "\u001b[1;31mAttributeError\u001b[0m                            Traceback (most recent call last)",
      "\u001b[1;32m~\\AppData\\Local\\Temp\\ipykernel_20164\\2659269600.py\u001b[0m in \u001b[0;36m<module>\u001b[1;34m\u001b[0m\n\u001b[0;32m      1\u001b[0m \u001b[1;31m# RUN SIMULATION\u001b[0m\u001b[1;33m\u001b[0m\u001b[1;33m\u001b[0m\u001b[1;33m\u001b[0m\u001b[0m\n\u001b[1;32m----> 2\u001b[1;33m \u001b[0msimulate_conversation\u001b[0m\u001b[1;33m(\u001b[0m\u001b[0magent\u001b[0m\u001b[1;33m,\u001b[0m\u001b[0msimulator\u001b[0m\u001b[1;33m)\u001b[0m\u001b[1;33m\u001b[0m\u001b[1;33m\u001b[0m\u001b[0m\n\u001b[0m",
      "\u001b[1;32m~\\AppData\\Local\\Temp\\ipykernel_20164\\3112804009.py\u001b[0m in \u001b[0;36msimulate_conversation\u001b[1;34m(agent, user_simulator)\u001b[0m\n\u001b[0;32m     13\u001b[0m     \u001b[0magent\u001b[0m\u001b[1;33m.\u001b[0m\u001b[0mconnect_dialogue_manager\u001b[0m\u001b[1;33m(\u001b[0m\u001b[0mdialogue_manager\u001b[0m\u001b[1;33m=\u001b[0m\u001b[0mdm\u001b[0m\u001b[1;33m)\u001b[0m\u001b[1;33m\u001b[0m\u001b[1;33m\u001b[0m\u001b[0m\n\u001b[0;32m     14\u001b[0m     \u001b[0muser_simulator\u001b[0m\u001b[1;33m.\u001b[0m\u001b[0mconnect_dialogue_manager\u001b[0m\u001b[1;33m(\u001b[0m\u001b[0mdialogue_manager\u001b[0m\u001b[1;33m=\u001b[0m\u001b[0mdm\u001b[0m\u001b[1;33m)\u001b[0m\u001b[1;33m\u001b[0m\u001b[1;33m\u001b[0m\u001b[0m\n\u001b[1;32m---> 15\u001b[1;33m     \u001b[0mdm\u001b[0m\u001b[1;33m.\u001b[0m\u001b[0mstart\u001b[0m\u001b[1;33m(\u001b[0m\u001b[1;33m)\u001b[0m\u001b[1;33m\u001b[0m\u001b[1;33m\u001b[0m\u001b[0m\n\u001b[0m\u001b[0;32m     16\u001b[0m     \u001b[0mdm\u001b[0m\u001b[1;33m.\u001b[0m\u001b[0mclose\u001b[0m\u001b[1;33m(\u001b[0m\u001b[1;33m)\u001b[0m\u001b[1;33m\u001b[0m\u001b[1;33m\u001b[0m\u001b[0m\n\u001b[0;32m     17\u001b[0m     \u001b[1;32mreturn\u001b[0m \u001b[0mdm\u001b[0m\u001b[1;33m.\u001b[0m\u001b[0mdialogue_history\u001b[0m\u001b[1;33m\u001b[0m\u001b[1;33m\u001b[0m\u001b[0m\n",
      "\u001b[1;32mc:\\Users\\jafar\\anaconda3\\envs\\usersimcrs\\lib\\site-packages\\dialoguekit\\manager\\dialogue_manager.py\u001b[0m in \u001b[0;36mstart\u001b[1;34m(self)\u001b[0m\n\u001b[0;32m    107\u001b[0m     \u001b[1;32mdef\u001b[0m \u001b[0mstart\u001b[0m\u001b[1;33m(\u001b[0m\u001b[0mself\u001b[0m\u001b[1;33m)\u001b[0m \u001b[1;33m->\u001b[0m \u001b[1;32mNone\u001b[0m\u001b[1;33m:\u001b[0m\u001b[1;33m\u001b[0m\u001b[1;33m\u001b[0m\u001b[0m\n\u001b[0;32m    108\u001b[0m         \u001b[1;34m\"\"\"Starts the conversation.\"\"\"\u001b[0m\u001b[1;33m\u001b[0m\u001b[1;33m\u001b[0m\u001b[0m\n\u001b[1;32m--> 109\u001b[1;33m         \u001b[0mself\u001b[0m\u001b[1;33m.\u001b[0m\u001b[0m_agent\u001b[0m\u001b[1;33m.\u001b[0m\u001b[0mwelcome\u001b[0m\u001b[1;33m(\u001b[0m\u001b[1;33m)\u001b[0m\u001b[1;33m\u001b[0m\u001b[1;33m\u001b[0m\u001b[0m\n\u001b[0m\u001b[0;32m    110\u001b[0m         \u001b[1;31m# TODO: Add some error handling (if connecting the user/agent fails)\u001b[0m\u001b[1;33m\u001b[0m\u001b[1;33m\u001b[0m\u001b[1;33m\u001b[0m\u001b[0m\n\u001b[0;32m    111\u001b[0m \u001b[1;33m\u001b[0m\u001b[0m\n",
      "\u001b[1;32mc:\\Users\\jafar\\anaconda3\\envs\\usersimcrs\\lib\\site-packages\\dialoguekit\\agent\\moviebot_agent.py\u001b[0m in \u001b[0;36mwelcome\u001b[1;34m(self)\u001b[0m\n\u001b[0;32m     62\u001b[0m             \u001b[0mintent\u001b[0m\u001b[1;33m=\u001b[0m\u001b[0mIntent\u001b[0m\u001b[1;33m(\u001b[0m\u001b[0mresponse_raw\u001b[0m\u001b[1;33m[\u001b[0m\u001b[1;34m\"message\"\u001b[0m\u001b[1;33m]\u001b[0m\u001b[1;33m[\u001b[0m\u001b[1;34m\"intent\"\u001b[0m\u001b[1;33m]\u001b[0m\u001b[1;33m)\u001b[0m\u001b[1;33m,\u001b[0m\u001b[1;33m\u001b[0m\u001b[1;33m\u001b[0m\u001b[0m\n\u001b[0;32m     63\u001b[0m         )\n\u001b[1;32m---> 64\u001b[1;33m         \u001b[0mself\u001b[0m\u001b[1;33m.\u001b[0m\u001b[0m_dialogue_manager\u001b[0m\u001b[1;33m.\u001b[0m\u001b[0mregister_agent_utterance\u001b[0m\u001b[1;33m(\u001b[0m\u001b[0mresponse\u001b[0m\u001b[1;33m)\u001b[0m\u001b[1;33m\u001b[0m\u001b[1;33m\u001b[0m\u001b[0m\n\u001b[0m\u001b[0;32m     65\u001b[0m \u001b[1;33m\u001b[0m\u001b[0m\n\u001b[0;32m     66\u001b[0m     \u001b[1;32mdef\u001b[0m \u001b[0mgoodbye\u001b[0m\u001b[1;33m(\u001b[0m\u001b[0mself\u001b[0m\u001b[1;33m)\u001b[0m \u001b[1;33m->\u001b[0m \u001b[1;32mNone\u001b[0m\u001b[1;33m:\u001b[0m\u001b[1;33m\u001b[0m\u001b[1;33m\u001b[0m\u001b[0m\n",
      "\u001b[1;32mc:\\Users\\jafar\\anaconda3\\envs\\usersimcrs\\lib\\site-packages\\dialoguekit\\manager\\dialogue_manager.py\u001b[0m in \u001b[0;36mregister_agent_utterance\u001b[1;34m(self, annotated_utterance)\u001b[0m\n\u001b[0;32m    103\u001b[0m             \u001b[0mself\u001b[0m\u001b[1;33m.\u001b[0m\u001b[0mclose\u001b[0m\u001b[1;33m(\u001b[0m\u001b[1;33m)\u001b[0m\u001b[1;33m\u001b[0m\u001b[1;33m\u001b[0m\u001b[0m\n\u001b[0;32m    104\u001b[0m         \u001b[1;32melse\u001b[0m\u001b[1;33m:\u001b[0m\u001b[1;33m\u001b[0m\u001b[1;33m\u001b[0m\u001b[0m\n\u001b[1;32m--> 105\u001b[1;33m             \u001b[0mself\u001b[0m\u001b[1;33m.\u001b[0m\u001b[0m_user\u001b[0m\u001b[1;33m.\u001b[0m\u001b[0mreceive_utterance\u001b[0m\u001b[1;33m(\u001b[0m\u001b[0mannotated_utterance\u001b[0m\u001b[1;33m.\u001b[0m\u001b[0mutterance\u001b[0m\u001b[1;33m)\u001b[0m\u001b[1;33m\u001b[0m\u001b[1;33m\u001b[0m\u001b[0m\n\u001b[0m\u001b[0;32m    106\u001b[0m \u001b[1;33m\u001b[0m\u001b[0m\n\u001b[0;32m    107\u001b[0m     \u001b[1;32mdef\u001b[0m \u001b[0mstart\u001b[0m\u001b[1;33m(\u001b[0m\u001b[0mself\u001b[0m\u001b[1;33m)\u001b[0m \u001b[1;33m->\u001b[0m \u001b[1;32mNone\u001b[0m\u001b[1;33m:\u001b[0m\u001b[1;33m\u001b[0m\u001b[1;33m\u001b[0m\u001b[0m\n",
      "\u001b[1;32mc:\\Users\\jafar\\Desktop\\V2022\\Master2022\\UserSimCRS\\usersimcrs\\simulator\\user_simulator.py\u001b[0m in \u001b[0;36mreceive_utterance\u001b[1;34m(self, agent_utterance)\u001b[0m\n\u001b[0;32m     33\u001b[0m         \"\"\"\n\u001b[0;32m     34\u001b[0m         self._dialogue_manager.register_user_utterance(\n\u001b[1;32m---> 35\u001b[1;33m             \u001b[0mself\u001b[0m\u001b[1;33m.\u001b[0m\u001b[0m_generate_response\u001b[0m\u001b[1;33m(\u001b[0m\u001b[0magent_utterance\u001b[0m\u001b[1;33m)\u001b[0m\u001b[1;33m\u001b[0m\u001b[1;33m\u001b[0m\u001b[0m\n\u001b[0m\u001b[0;32m     36\u001b[0m         )\n",
      "\u001b[1;32mc:\\Users\\jafar\\anaconda3\\envs\\usersimcrs\\lib\\site-packages\\dialoguekit\\manager\\dialogue_manager.py\u001b[0m in \u001b[0;36mregister_user_utterance\u001b[1;34m(self, annotated_utterance)\u001b[0m\n\u001b[0;32m     73\u001b[0m         \u001b[0mself\u001b[0m\u001b[1;33m.\u001b[0m\u001b[0m_dialogue_history\u001b[0m\u001b[1;33m.\u001b[0m\u001b[0madd_user_utterance\u001b[0m\u001b[1;33m(\u001b[0m\u001b[0mannotated_utterance\u001b[0m\u001b[1;33m)\u001b[0m\u001b[1;33m\u001b[0m\u001b[1;33m\u001b[0m\u001b[0m\n\u001b[0;32m     74\u001b[0m         \u001b[0mself\u001b[0m\u001b[1;33m.\u001b[0m\u001b[0m_platform\u001b[0m\u001b[1;33m.\u001b[0m\u001b[0mdisplay_user_utterance\u001b[0m\u001b[1;33m(\u001b[0m\u001b[0mannotated_utterance\u001b[0m\u001b[1;33m)\u001b[0m\u001b[1;33m\u001b[0m\u001b[1;33m\u001b[0m\u001b[0m\n\u001b[1;32m---> 75\u001b[1;33m         \u001b[0mself\u001b[0m\u001b[1;33m.\u001b[0m\u001b[0m_agent\u001b[0m\u001b[1;33m.\u001b[0m\u001b[0mreceive_user_utterance\u001b[0m\u001b[1;33m(\u001b[0m\u001b[0mannotated_utterance\u001b[0m\u001b[1;33m)\u001b[0m\u001b[1;33m\u001b[0m\u001b[1;33m\u001b[0m\u001b[0m\n\u001b[0m\u001b[0;32m     76\u001b[0m \u001b[1;33m\u001b[0m\u001b[0m\n\u001b[0;32m     77\u001b[0m     def register_agent_utterance(\n",
      "\u001b[1;32mc:\\Users\\jafar\\anaconda3\\envs\\usersimcrs\\lib\\site-packages\\dialoguekit\\agent\\moviebot_agent.py\u001b[0m in \u001b[0;36mreceive_user_utterance\u001b[1;34m(self, annotated_utterance)\u001b[0m\n\u001b[0;32m    119\u001b[0m             \u001b[0mintent\u001b[0m\u001b[1;33m=\u001b[0m\u001b[0mIntent\u001b[0m\u001b[1;33m(\u001b[0m\u001b[0mresponse_raw\u001b[0m\u001b[1;33m[\u001b[0m\u001b[1;34m\"message\"\u001b[0m\u001b[1;33m]\u001b[0m\u001b[1;33m[\u001b[0m\u001b[1;34m\"intent\"\u001b[0m\u001b[1;33m]\u001b[0m\u001b[1;33m)\u001b[0m\u001b[1;33m,\u001b[0m\u001b[1;33m\u001b[0m\u001b[1;33m\u001b[0m\u001b[0m\n\u001b[0;32m    120\u001b[0m         )\n\u001b[1;32m--> 121\u001b[1;33m         \u001b[0mself\u001b[0m\u001b[1;33m.\u001b[0m\u001b[0m_dialogue_manager\u001b[0m\u001b[1;33m.\u001b[0m\u001b[0mregister_agent_utterance\u001b[0m\u001b[1;33m(\u001b[0m\u001b[0mresponse\u001b[0m\u001b[1;33m)\u001b[0m\u001b[1;33m\u001b[0m\u001b[1;33m\u001b[0m\u001b[0m\n\u001b[0m",
      "\u001b[1;32mc:\\Users\\jafar\\anaconda3\\envs\\usersimcrs\\lib\\site-packages\\dialoguekit\\manager\\dialogue_manager.py\u001b[0m in \u001b[0;36mregister_agent_utterance\u001b[1;34m(self, annotated_utterance)\u001b[0m\n\u001b[0;32m    103\u001b[0m             \u001b[0mself\u001b[0m\u001b[1;33m.\u001b[0m\u001b[0mclose\u001b[0m\u001b[1;33m(\u001b[0m\u001b[1;33m)\u001b[0m\u001b[1;33m\u001b[0m\u001b[1;33m\u001b[0m\u001b[0m\n\u001b[0;32m    104\u001b[0m         \u001b[1;32melse\u001b[0m\u001b[1;33m:\u001b[0m\u001b[1;33m\u001b[0m\u001b[1;33m\u001b[0m\u001b[0m\n\u001b[1;32m--> 105\u001b[1;33m             \u001b[0mself\u001b[0m\u001b[1;33m.\u001b[0m\u001b[0m_user\u001b[0m\u001b[1;33m.\u001b[0m\u001b[0mreceive_utterance\u001b[0m\u001b[1;33m(\u001b[0m\u001b[0mannotated_utterance\u001b[0m\u001b[1;33m.\u001b[0m\u001b[0mutterance\u001b[0m\u001b[1;33m)\u001b[0m\u001b[1;33m\u001b[0m\u001b[1;33m\u001b[0m\u001b[0m\n\u001b[0m\u001b[0;32m    106\u001b[0m \u001b[1;33m\u001b[0m\u001b[0m\n\u001b[0;32m    107\u001b[0m     \u001b[1;32mdef\u001b[0m \u001b[0mstart\u001b[0m\u001b[1;33m(\u001b[0m\u001b[0mself\u001b[0m\u001b[1;33m)\u001b[0m \u001b[1;33m->\u001b[0m \u001b[1;32mNone\u001b[0m\u001b[1;33m:\u001b[0m\u001b[1;33m\u001b[0m\u001b[1;33m\u001b[0m\u001b[0m\n",
      "\u001b[1;32mc:\\Users\\jafar\\Desktop\\V2022\\Master2022\\UserSimCRS\\usersimcrs\\simulator\\user_simulator.py\u001b[0m in \u001b[0;36mreceive_utterance\u001b[1;34m(self, agent_utterance)\u001b[0m\n\u001b[0;32m     33\u001b[0m         \"\"\"\n\u001b[0;32m     34\u001b[0m         self._dialogue_manager.register_user_utterance(\n\u001b[1;32m---> 35\u001b[1;33m             \u001b[0mself\u001b[0m\u001b[1;33m.\u001b[0m\u001b[0m_generate_response\u001b[0m\u001b[1;33m(\u001b[0m\u001b[0magent_utterance\u001b[0m\u001b[1;33m)\u001b[0m\u001b[1;33m\u001b[0m\u001b[1;33m\u001b[0m\u001b[0m\n\u001b[0m\u001b[0;32m     36\u001b[0m         )\n",
      "\u001b[1;32mc:\\Users\\jafar\\anaconda3\\envs\\usersimcrs\\lib\\site-packages\\dialoguekit\\manager\\dialogue_manager.py\u001b[0m in \u001b[0;36mregister_user_utterance\u001b[1;34m(self, annotated_utterance)\u001b[0m\n\u001b[0;32m     73\u001b[0m         \u001b[0mself\u001b[0m\u001b[1;33m.\u001b[0m\u001b[0m_dialogue_history\u001b[0m\u001b[1;33m.\u001b[0m\u001b[0madd_user_utterance\u001b[0m\u001b[1;33m(\u001b[0m\u001b[0mannotated_utterance\u001b[0m\u001b[1;33m)\u001b[0m\u001b[1;33m\u001b[0m\u001b[1;33m\u001b[0m\u001b[0m\n\u001b[0;32m     74\u001b[0m         \u001b[0mself\u001b[0m\u001b[1;33m.\u001b[0m\u001b[0m_platform\u001b[0m\u001b[1;33m.\u001b[0m\u001b[0mdisplay_user_utterance\u001b[0m\u001b[1;33m(\u001b[0m\u001b[0mannotated_utterance\u001b[0m\u001b[1;33m)\u001b[0m\u001b[1;33m\u001b[0m\u001b[1;33m\u001b[0m\u001b[0m\n\u001b[1;32m---> 75\u001b[1;33m         \u001b[0mself\u001b[0m\u001b[1;33m.\u001b[0m\u001b[0m_agent\u001b[0m\u001b[1;33m.\u001b[0m\u001b[0mreceive_user_utterance\u001b[0m\u001b[1;33m(\u001b[0m\u001b[0mannotated_utterance\u001b[0m\u001b[1;33m)\u001b[0m\u001b[1;33m\u001b[0m\u001b[1;33m\u001b[0m\u001b[0m\n\u001b[0m\u001b[0;32m     76\u001b[0m \u001b[1;33m\u001b[0m\u001b[0m\n\u001b[0;32m     77\u001b[0m     def register_agent_utterance(\n",
      "\u001b[1;32mc:\\Users\\jafar\\anaconda3\\envs\\usersimcrs\\lib\\site-packages\\dialoguekit\\agent\\moviebot_agent.py\u001b[0m in \u001b[0;36mreceive_user_utterance\u001b[1;34m(self, annotated_utterance)\u001b[0m\n\u001b[0;32m    119\u001b[0m             \u001b[0mintent\u001b[0m\u001b[1;33m=\u001b[0m\u001b[0mIntent\u001b[0m\u001b[1;33m(\u001b[0m\u001b[0mresponse_raw\u001b[0m\u001b[1;33m[\u001b[0m\u001b[1;34m\"message\"\u001b[0m\u001b[1;33m]\u001b[0m\u001b[1;33m[\u001b[0m\u001b[1;34m\"intent\"\u001b[0m\u001b[1;33m]\u001b[0m\u001b[1;33m)\u001b[0m\u001b[1;33m,\u001b[0m\u001b[1;33m\u001b[0m\u001b[1;33m\u001b[0m\u001b[0m\n\u001b[0;32m    120\u001b[0m         )\n\u001b[1;32m--> 121\u001b[1;33m         \u001b[0mself\u001b[0m\u001b[1;33m.\u001b[0m\u001b[0m_dialogue_manager\u001b[0m\u001b[1;33m.\u001b[0m\u001b[0mregister_agent_utterance\u001b[0m\u001b[1;33m(\u001b[0m\u001b[0mresponse\u001b[0m\u001b[1;33m)\u001b[0m\u001b[1;33m\u001b[0m\u001b[1;33m\u001b[0m\u001b[0m\n\u001b[0m",
      "\u001b[1;32mc:\\Users\\jafar\\anaconda3\\envs\\usersimcrs\\lib\\site-packages\\dialoguekit\\manager\\dialogue_manager.py\u001b[0m in \u001b[0;36mregister_agent_utterance\u001b[1;34m(self, annotated_utterance)\u001b[0m\n\u001b[0;32m    103\u001b[0m             \u001b[0mself\u001b[0m\u001b[1;33m.\u001b[0m\u001b[0mclose\u001b[0m\u001b[1;33m(\u001b[0m\u001b[1;33m)\u001b[0m\u001b[1;33m\u001b[0m\u001b[1;33m\u001b[0m\u001b[0m\n\u001b[0;32m    104\u001b[0m         \u001b[1;32melse\u001b[0m\u001b[1;33m:\u001b[0m\u001b[1;33m\u001b[0m\u001b[1;33m\u001b[0m\u001b[0m\n\u001b[1;32m--> 105\u001b[1;33m             \u001b[0mself\u001b[0m\u001b[1;33m.\u001b[0m\u001b[0m_user\u001b[0m\u001b[1;33m.\u001b[0m\u001b[0mreceive_utterance\u001b[0m\u001b[1;33m(\u001b[0m\u001b[0mannotated_utterance\u001b[0m\u001b[1;33m.\u001b[0m\u001b[0mutterance\u001b[0m\u001b[1;33m)\u001b[0m\u001b[1;33m\u001b[0m\u001b[1;33m\u001b[0m\u001b[0m\n\u001b[0m\u001b[0;32m    106\u001b[0m \u001b[1;33m\u001b[0m\u001b[0m\n\u001b[0;32m    107\u001b[0m     \u001b[1;32mdef\u001b[0m \u001b[0mstart\u001b[0m\u001b[1;33m(\u001b[0m\u001b[0mself\u001b[0m\u001b[1;33m)\u001b[0m \u001b[1;33m->\u001b[0m \u001b[1;32mNone\u001b[0m\u001b[1;33m:\u001b[0m\u001b[1;33m\u001b[0m\u001b[1;33m\u001b[0m\u001b[0m\n",
      "\u001b[1;32mc:\\Users\\jafar\\Desktop\\V2022\\Master2022\\UserSimCRS\\usersimcrs\\simulator\\user_simulator.py\u001b[0m in \u001b[0;36mreceive_utterance\u001b[1;34m(self, agent_utterance)\u001b[0m\n\u001b[0;32m     33\u001b[0m         \"\"\"\n\u001b[0;32m     34\u001b[0m         self._dialogue_manager.register_user_utterance(\n\u001b[1;32m---> 35\u001b[1;33m             \u001b[0mself\u001b[0m\u001b[1;33m.\u001b[0m\u001b[0m_generate_response\u001b[0m\u001b[1;33m(\u001b[0m\u001b[0magent_utterance\u001b[0m\u001b[1;33m)\u001b[0m\u001b[1;33m\u001b[0m\u001b[1;33m\u001b[0m\u001b[0m\n\u001b[0m\u001b[0;32m     36\u001b[0m         )\n",
      "\u001b[1;32mc:\\Users\\jafar\\anaconda3\\envs\\usersimcrs\\lib\\site-packages\\dialoguekit\\manager\\dialogue_manager.py\u001b[0m in \u001b[0;36mregister_user_utterance\u001b[1;34m(self, annotated_utterance)\u001b[0m\n\u001b[0;32m     73\u001b[0m         \u001b[0mself\u001b[0m\u001b[1;33m.\u001b[0m\u001b[0m_dialogue_history\u001b[0m\u001b[1;33m.\u001b[0m\u001b[0madd_user_utterance\u001b[0m\u001b[1;33m(\u001b[0m\u001b[0mannotated_utterance\u001b[0m\u001b[1;33m)\u001b[0m\u001b[1;33m\u001b[0m\u001b[1;33m\u001b[0m\u001b[0m\n\u001b[0;32m     74\u001b[0m         \u001b[0mself\u001b[0m\u001b[1;33m.\u001b[0m\u001b[0m_platform\u001b[0m\u001b[1;33m.\u001b[0m\u001b[0mdisplay_user_utterance\u001b[0m\u001b[1;33m(\u001b[0m\u001b[0mannotated_utterance\u001b[0m\u001b[1;33m)\u001b[0m\u001b[1;33m\u001b[0m\u001b[1;33m\u001b[0m\u001b[0m\n\u001b[1;32m---> 75\u001b[1;33m         \u001b[0mself\u001b[0m\u001b[1;33m.\u001b[0m\u001b[0m_agent\u001b[0m\u001b[1;33m.\u001b[0m\u001b[0mreceive_user_utterance\u001b[0m\u001b[1;33m(\u001b[0m\u001b[0mannotated_utterance\u001b[0m\u001b[1;33m)\u001b[0m\u001b[1;33m\u001b[0m\u001b[1;33m\u001b[0m\u001b[0m\n\u001b[0m\u001b[0;32m     76\u001b[0m \u001b[1;33m\u001b[0m\u001b[0m\n\u001b[0;32m     77\u001b[0m     def register_agent_utterance(\n",
      "\u001b[1;32mc:\\Users\\jafar\\anaconda3\\envs\\usersimcrs\\lib\\site-packages\\dialoguekit\\agent\\moviebot_agent.py\u001b[0m in \u001b[0;36mreceive_user_utterance\u001b[1;34m(self, annotated_utterance)\u001b[0m\n\u001b[0;32m    119\u001b[0m             \u001b[0mintent\u001b[0m\u001b[1;33m=\u001b[0m\u001b[0mIntent\u001b[0m\u001b[1;33m(\u001b[0m\u001b[0mresponse_raw\u001b[0m\u001b[1;33m[\u001b[0m\u001b[1;34m\"message\"\u001b[0m\u001b[1;33m]\u001b[0m\u001b[1;33m[\u001b[0m\u001b[1;34m\"intent\"\u001b[0m\u001b[1;33m]\u001b[0m\u001b[1;33m)\u001b[0m\u001b[1;33m,\u001b[0m\u001b[1;33m\u001b[0m\u001b[1;33m\u001b[0m\u001b[0m\n\u001b[0;32m    120\u001b[0m         )\n\u001b[1;32m--> 121\u001b[1;33m         \u001b[0mself\u001b[0m\u001b[1;33m.\u001b[0m\u001b[0m_dialogue_manager\u001b[0m\u001b[1;33m.\u001b[0m\u001b[0mregister_agent_utterance\u001b[0m\u001b[1;33m(\u001b[0m\u001b[0mresponse\u001b[0m\u001b[1;33m)\u001b[0m\u001b[1;33m\u001b[0m\u001b[1;33m\u001b[0m\u001b[0m\n\u001b[0m",
      "\u001b[1;32mc:\\Users\\jafar\\anaconda3\\envs\\usersimcrs\\lib\\site-packages\\dialoguekit\\manager\\dialogue_manager.py\u001b[0m in \u001b[0;36mregister_agent_utterance\u001b[1;34m(self, annotated_utterance)\u001b[0m\n\u001b[0;32m    103\u001b[0m             \u001b[0mself\u001b[0m\u001b[1;33m.\u001b[0m\u001b[0mclose\u001b[0m\u001b[1;33m(\u001b[0m\u001b[1;33m)\u001b[0m\u001b[1;33m\u001b[0m\u001b[1;33m\u001b[0m\u001b[0m\n\u001b[0;32m    104\u001b[0m         \u001b[1;32melse\u001b[0m\u001b[1;33m:\u001b[0m\u001b[1;33m\u001b[0m\u001b[1;33m\u001b[0m\u001b[0m\n\u001b[1;32m--> 105\u001b[1;33m             \u001b[0mself\u001b[0m\u001b[1;33m.\u001b[0m\u001b[0m_user\u001b[0m\u001b[1;33m.\u001b[0m\u001b[0mreceive_utterance\u001b[0m\u001b[1;33m(\u001b[0m\u001b[0mannotated_utterance\u001b[0m\u001b[1;33m.\u001b[0m\u001b[0mutterance\u001b[0m\u001b[1;33m)\u001b[0m\u001b[1;33m\u001b[0m\u001b[1;33m\u001b[0m\u001b[0m\n\u001b[0m\u001b[0;32m    106\u001b[0m \u001b[1;33m\u001b[0m\u001b[0m\n\u001b[0;32m    107\u001b[0m     \u001b[1;32mdef\u001b[0m \u001b[0mstart\u001b[0m\u001b[1;33m(\u001b[0m\u001b[0mself\u001b[0m\u001b[1;33m)\u001b[0m \u001b[1;33m->\u001b[0m \u001b[1;32mNone\u001b[0m\u001b[1;33m:\u001b[0m\u001b[1;33m\u001b[0m\u001b[1;33m\u001b[0m\u001b[0m\n",
      "\u001b[1;32mc:\\Users\\jafar\\Desktop\\V2022\\Master2022\\UserSimCRS\\usersimcrs\\simulator\\user_simulator.py\u001b[0m in \u001b[0;36mreceive_utterance\u001b[1;34m(self, agent_utterance)\u001b[0m\n\u001b[0;32m     33\u001b[0m         \"\"\"\n\u001b[0;32m     34\u001b[0m         self._dialogue_manager.register_user_utterance(\n\u001b[1;32m---> 35\u001b[1;33m             \u001b[0mself\u001b[0m\u001b[1;33m.\u001b[0m\u001b[0m_generate_response\u001b[0m\u001b[1;33m(\u001b[0m\u001b[0magent_utterance\u001b[0m\u001b[1;33m)\u001b[0m\u001b[1;33m\u001b[0m\u001b[1;33m\u001b[0m\u001b[0m\n\u001b[0m\u001b[0;32m     36\u001b[0m         )\n",
      "\u001b[1;32mc:\\Users\\jafar\\anaconda3\\envs\\usersimcrs\\lib\\site-packages\\dialoguekit\\manager\\dialogue_manager.py\u001b[0m in \u001b[0;36mregister_user_utterance\u001b[1;34m(self, annotated_utterance)\u001b[0m\n\u001b[0;32m     72\u001b[0m         \"\"\"\n\u001b[0;32m     73\u001b[0m         \u001b[0mself\u001b[0m\u001b[1;33m.\u001b[0m\u001b[0m_dialogue_history\u001b[0m\u001b[1;33m.\u001b[0m\u001b[0madd_user_utterance\u001b[0m\u001b[1;33m(\u001b[0m\u001b[0mannotated_utterance\u001b[0m\u001b[1;33m)\u001b[0m\u001b[1;33m\u001b[0m\u001b[1;33m\u001b[0m\u001b[0m\n\u001b[1;32m---> 74\u001b[1;33m         \u001b[0mself\u001b[0m\u001b[1;33m.\u001b[0m\u001b[0m_platform\u001b[0m\u001b[1;33m.\u001b[0m\u001b[0mdisplay_user_utterance\u001b[0m\u001b[1;33m(\u001b[0m\u001b[0mannotated_utterance\u001b[0m\u001b[1;33m)\u001b[0m\u001b[1;33m\u001b[0m\u001b[1;33m\u001b[0m\u001b[0m\n\u001b[0m\u001b[0;32m     75\u001b[0m         \u001b[0mself\u001b[0m\u001b[1;33m.\u001b[0m\u001b[0m_agent\u001b[0m\u001b[1;33m.\u001b[0m\u001b[0mreceive_user_utterance\u001b[0m\u001b[1;33m(\u001b[0m\u001b[0mannotated_utterance\u001b[0m\u001b[1;33m)\u001b[0m\u001b[1;33m\u001b[0m\u001b[1;33m\u001b[0m\u001b[0m\n\u001b[0;32m     76\u001b[0m \u001b[1;33m\u001b[0m\u001b[0m\n",
      "\u001b[1;32mc:\\Users\\jafar\\anaconda3\\envs\\usersimcrs\\lib\\site-packages\\dialoguekit\\platforms\\platform.py\u001b[0m in \u001b[0;36mdisplay_user_utterance\u001b[1;34m(self, utterance)\u001b[0m\n\u001b[0;32m     26\u001b[0m             \u001b[0mutterance\u001b[0m\u001b[1;33m:\u001b[0m \u001b[0mAn\u001b[0m \u001b[0minstance\u001b[0m \u001b[0mof\u001b[0m \u001b[0mUtterance\u001b[0m\u001b[1;33m.\u001b[0m\u001b[1;33m\u001b[0m\u001b[1;33m\u001b[0m\u001b[0m\n\u001b[0;32m     27\u001b[0m         \"\"\"\n\u001b[1;32m---> 28\u001b[1;33m         \u001b[0mprint\u001b[0m\u001b[1;33m(\u001b[0m\u001b[1;34mf\"USER:  {utterance.text}\\n\"\u001b[0m\u001b[1;33m)\u001b[0m\u001b[1;33m\u001b[0m\u001b[1;33m\u001b[0m\u001b[0m\n\u001b[0m",
      "\u001b[1;31mAttributeError\u001b[0m: 'bool' object has no attribute 'text'"
     ]
    }
   ],
   "source": [
    "# RUN SIMULATION\n",
    "simulate_conversation(agent,simulator)"
   ]
  },
  {
   "cell_type": "code",
   "execution_count": null,
   "metadata": {},
   "outputs": [
    {
     "data": {
      "text/plain": [
       "[Intent(NOTE),\n",
       " Intent(DISCLOSE),\n",
       " Intent(DISCLOSE),\n",
       " Intent(NOTE),\n",
       " Intent(INQUIRE.SIMILAR),\n",
       " Intent(NOTE),\n",
       " Intent(NOTE),\n",
       " Intent(DISCLOSE),\n",
       " Intent(DISCLOSE.NON-DISCLOSE)]"
      ]
     },
     "execution_count": 59,
     "metadata": {},
     "output_type": "execute_result"
    }
   ],
   "source": [
    "interaction_model.initialize_agenda()"
   ]
  },
  {
   "cell_type": "code",
   "execution_count": 10,
   "metadata": {},
   "outputs": [
    {
     "data": {
      "text/plain": [
       "{'6': 0.5555555555555556,\n",
       " '110': 0.5555555555555556,\n",
       " '377': 0.11111111111111116,\n",
       " '457': 1.0,\n",
       " '480': 0.11111111111111116,\n",
       " '648': 0.11111111111111116,\n",
       " SlotValueAnnotation(TITLE, Heat,             13, 17): -1}"
      ]
     },
     "execution_count": 10,
     "metadata": {},
     "output_type": "execute_result"
    }
   ],
   "source": [
    "preference_model._item_preferences.get_preferences(\"ITEM_ID\")"
   ]
  }
 ],
 "metadata": {
  "interpreter": {
   "hash": "fc81fb31b43b336ef0c6e1522da71f6dcd4dbb48e5d9163cfa83d40037023500"
  },
  "kernelspec": {
   "display_name": "Python 3.7.11 ('usersimcrs')",
   "language": "python",
   "name": "python3"
  },
  "language_info": {
   "codemirror_mode": {
    "name": "ipython",
    "version": 3
   },
   "file_extension": ".py",
   "mimetype": "text/x-python",
   "name": "python",
   "nbconvert_exporter": "python",
   "pygments_lexer": "ipython3",
   "version": "3.7.11"
  },
  "orig_nbformat": 4
 },
 "nbformat": 4,
 "nbformat_minor": 2
}
