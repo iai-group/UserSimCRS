{
 "cells": [
  {
   "cell_type": "markdown",
   "metadata": {},
   "source": [
    "# Sample MovieLens 25 million"
   ]
  },
  {
   "cell_type": "code",
   "execution_count": 4,
   "metadata": {},
   "outputs": [],
   "source": [
    "import os\n",
    "os.chdir(\"..\")"
   ]
  },
  {
   "cell_type": "code",
   "execution_count": 69,
   "metadata": {},
   "outputs": [],
   "source": [
    "import pandas as pd\n",
    "import numpy as np"
   ]
  },
  {
   "cell_type": "markdown",
   "metadata": {},
   "source": [
    "## Sample n users"
   ]
  },
  {
   "cell_type": "code",
   "execution_count": 5,
   "metadata": {},
   "outputs": [],
   "source": [
    "df = pd.read_csv(\"data/movielens-25m/ratings.csv\")"
   ]
  },
  {
   "cell_type": "code",
   "execution_count": 7,
   "metadata": {},
   "outputs": [],
   "source": [
    "df_sample = df[df[\"userId\"] < 21]"
   ]
  },
  {
   "cell_type": "code",
   "execution_count": 10,
   "metadata": {},
   "outputs": [],
   "source": [
    "df_sample.to_csv(\"data/movielens-25m/ratings_sample.csv\",header=True,index=False)"
   ]
  },
  {
   "cell_type": "markdown",
   "metadata": {},
   "source": [
    "## Tags"
   ]
  },
  {
   "cell_type": "code",
   "execution_count": 86,
   "metadata": {},
   "outputs": [],
   "source": [
    "movies = pd.read_csv(\"data/movielens-25m/movies.csv\")\n",
    "movies[\"keyword\"] = np.nan\n",
    "genome_tags = pd.read_csv(\"data/movielens-25m/genome-tags.csv\")\n",
    "genome_score = pd.read_csv(\"data/movielens-25m/genome-scores.csv\")"
   ]
  },
  {
   "cell_type": "code",
   "execution_count": 90,
   "metadata": {},
   "outputs": [],
   "source": [
    "genome_movie_group = genome_score.groupby([\"movieId\"])\n",
    "groups = dict(list(genome_movie_group))\n",
    "for movie_id, group in groups.items():\n",
    "    top_tags = list(group.sort_values([\"relevance\"]).tail(5)[\"tagId\"])\n",
    "    top_tags_names = []\n",
    "    for tag in top_tags:\n",
    "        top_tags_names.append(list(genome_tags[genome_tags[\"tagId\"]==tag][\"tag\"])[0])\n",
    "    #print(f\"Movie id: {movie_id}, tag ids: {top_tags}, tag names: {top_tags_names}\")\n",
    "    movies.loc[movies[movies[\"movieId\"] == movie_id].index[0],\"keyword\"] = \"|\".join(top_tags_names)"
   ]
  },
  {
   "cell_type": "code",
   "execution_count": 92,
   "metadata": {},
   "outputs": [],
   "source": [
    "movies.to_csv(\"data/movielens-25m/movies_w_keywords.csv\",header=True,index=False)"
   ]
  }
 ],
 "metadata": {
  "kernelspec": {
   "display_name": "Python 3.7.12 ('usersimcrs')",
   "language": "python",
   "name": "python3"
  },
  "language_info": {
   "codemirror_mode": {
    "name": "ipython",
    "version": 3
   },
   "file_extension": ".py",
   "mimetype": "text/x-python",
   "name": "python",
   "nbconvert_exporter": "python",
   "pygments_lexer": "ipython3",
   "version": "3.7.12"
  },
  "orig_nbformat": 4,
  "vscode": {
   "interpreter": {
    "hash": "ad262c24ef911273bdf5c4e5fbdd854e9b6771970ef6694d70248a42476b667a"
   }
  }
 },
 "nbformat": 4,
 "nbformat_minor": 2
}
